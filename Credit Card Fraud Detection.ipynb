{
 "cells": [
  {
   "cell_type": "markdown",
   "id": "73e70f71",
   "metadata": {},
   "source": [
    "**Context:** Credit Card Fraud Analysis - Anonymized credit card transactions labeled as fraudulent or genuine.\n",
    "It is important that credit card firms are able to recognize fraudulent credit card transactions so that customers are not charged for items that they did not purchase.\n",
    "\n",
    "The dataset contains transactions made by credit cards in the past by cardholders. There are around 30 features including time, amount and features (F1 through F28) - these are masked due to confidentiality aspects. This dataset presents transactions that occurred, where we have 492 fraudulent transactions out of 284,807 transactions tagged as is_fraud. The dataset is highly unbalanced, the positive class (frauds) account for 0.172% of all transactions.\n",
    "\n",
    "\n",
    "**Ask:**<br>\n",
    "a) Fit a logistic regression model and plot ROC curve for model accuracy.<br>\n",
    "b) It is encouraged to perform EDA, Feature Engineering and provide your comments accordingly."
   ]
  },
  {
   "cell_type": "code",
   "execution_count": 1,
   "id": "455eea7e",
   "metadata": {},
   "outputs": [],
   "source": [
    "#Import relevant libraries\n",
    "import numpy as np\n",
    "import pandas as pd\n",
    "\n",
    "import matplotlib.pyplot as plt\n",
    "%matplotlib inline\n",
    "import seaborn as sns\n",
    "\n",
    "from sklearn import metrics\n",
    "from sklearn import preprocessing\n",
    "\n",
    "#filter warnings\n",
    "import warnings\n",
    "warnings.filterwarnings('ignore')\n",
    "\n",
    "pd.set_option('display.max_columns', None)"
   ]
  },
  {
   "cell_type": "markdown",
   "id": "b0398fad",
   "metadata": {},
   "source": [
    "## Exploratory data analysis"
   ]
  },
  {
   "cell_type": "code",
   "execution_count": 2,
   "id": "b0da3329",
   "metadata": {},
   "outputs": [
    {
     "data": {
      "text/html": [
       "<div>\n",
       "<style scoped>\n",
       "    .dataframe tbody tr th:only-of-type {\n",
       "        vertical-align: middle;\n",
       "    }\n",
       "\n",
       "    .dataframe tbody tr th {\n",
       "        vertical-align: top;\n",
       "    }\n",
       "\n",
       "    .dataframe thead th {\n",
       "        text-align: right;\n",
       "    }\n",
       "</style>\n",
       "<table border=\"1\" class=\"dataframe\">\n",
       "  <thead>\n",
       "    <tr style=\"text-align: right;\">\n",
       "      <th></th>\n",
       "      <th>Time</th>\n",
       "      <th>F1</th>\n",
       "      <th>F2</th>\n",
       "      <th>F3</th>\n",
       "      <th>F4</th>\n",
       "      <th>F5</th>\n",
       "      <th>F6</th>\n",
       "      <th>F7</th>\n",
       "      <th>F8</th>\n",
       "      <th>F9</th>\n",
       "      <th>F10</th>\n",
       "      <th>F11</th>\n",
       "      <th>F12</th>\n",
       "      <th>F13</th>\n",
       "      <th>F14</th>\n",
       "      <th>F15</th>\n",
       "      <th>F16</th>\n",
       "      <th>F17</th>\n",
       "      <th>F18</th>\n",
       "      <th>F19</th>\n",
       "      <th>F20</th>\n",
       "      <th>F21</th>\n",
       "      <th>F22</th>\n",
       "      <th>F23</th>\n",
       "      <th>F24</th>\n",
       "      <th>F25</th>\n",
       "      <th>F26</th>\n",
       "      <th>F27</th>\n",
       "      <th>F28</th>\n",
       "      <th>Amount</th>\n",
       "      <th>is_fraud</th>\n",
       "    </tr>\n",
       "  </thead>\n",
       "  <tbody>\n",
       "    <tr>\n",
       "      <th>0</th>\n",
       "      <td>0.0</td>\n",
       "      <td>-1.359807</td>\n",
       "      <td>-0.072781</td>\n",
       "      <td>2.536347</td>\n",
       "      <td>1.378155</td>\n",
       "      <td>-0.338321</td>\n",
       "      <td>0.462388</td>\n",
       "      <td>0.239599</td>\n",
       "      <td>0.098698</td>\n",
       "      <td>0.363787</td>\n",
       "      <td>0.090794</td>\n",
       "      <td>-0.551600</td>\n",
       "      <td>-0.617801</td>\n",
       "      <td>-0.991390</td>\n",
       "      <td>-0.311169</td>\n",
       "      <td>1.468177</td>\n",
       "      <td>-0.470401</td>\n",
       "      <td>0.207971</td>\n",
       "      <td>0.025791</td>\n",
       "      <td>0.403993</td>\n",
       "      <td>0.251412</td>\n",
       "      <td>-0.018307</td>\n",
       "      <td>0.277838</td>\n",
       "      <td>-0.110474</td>\n",
       "      <td>0.066928</td>\n",
       "      <td>0.128539</td>\n",
       "      <td>-0.189115</td>\n",
       "      <td>0.133558</td>\n",
       "      <td>-0.021053</td>\n",
       "      <td>149.62</td>\n",
       "      <td>0</td>\n",
       "    </tr>\n",
       "    <tr>\n",
       "      <th>1</th>\n",
       "      <td>0.0</td>\n",
       "      <td>1.191857</td>\n",
       "      <td>0.266151</td>\n",
       "      <td>0.166480</td>\n",
       "      <td>0.448154</td>\n",
       "      <td>0.060018</td>\n",
       "      <td>-0.082361</td>\n",
       "      <td>-0.078803</td>\n",
       "      <td>0.085102</td>\n",
       "      <td>-0.255425</td>\n",
       "      <td>-0.166974</td>\n",
       "      <td>1.612727</td>\n",
       "      <td>1.065235</td>\n",
       "      <td>0.489095</td>\n",
       "      <td>-0.143772</td>\n",
       "      <td>0.635558</td>\n",
       "      <td>0.463917</td>\n",
       "      <td>-0.114805</td>\n",
       "      <td>-0.183361</td>\n",
       "      <td>-0.145783</td>\n",
       "      <td>-0.069083</td>\n",
       "      <td>-0.225775</td>\n",
       "      <td>-0.638672</td>\n",
       "      <td>0.101288</td>\n",
       "      <td>-0.339846</td>\n",
       "      <td>0.167170</td>\n",
       "      <td>0.125895</td>\n",
       "      <td>-0.008983</td>\n",
       "      <td>0.014724</td>\n",
       "      <td>2.69</td>\n",
       "      <td>0</td>\n",
       "    </tr>\n",
       "    <tr>\n",
       "      <th>2</th>\n",
       "      <td>1.0</td>\n",
       "      <td>-1.358354</td>\n",
       "      <td>-1.340163</td>\n",
       "      <td>1.773209</td>\n",
       "      <td>0.379780</td>\n",
       "      <td>-0.503198</td>\n",
       "      <td>1.800499</td>\n",
       "      <td>0.791461</td>\n",
       "      <td>0.247676</td>\n",
       "      <td>-1.514654</td>\n",
       "      <td>0.207643</td>\n",
       "      <td>0.624501</td>\n",
       "      <td>0.066084</td>\n",
       "      <td>0.717293</td>\n",
       "      <td>-0.165946</td>\n",
       "      <td>2.345865</td>\n",
       "      <td>-2.890083</td>\n",
       "      <td>1.109969</td>\n",
       "      <td>-0.121359</td>\n",
       "      <td>-2.261857</td>\n",
       "      <td>0.524980</td>\n",
       "      <td>0.247998</td>\n",
       "      <td>0.771679</td>\n",
       "      <td>0.909412</td>\n",
       "      <td>-0.689281</td>\n",
       "      <td>-0.327642</td>\n",
       "      <td>-0.139097</td>\n",
       "      <td>-0.055353</td>\n",
       "      <td>-0.059752</td>\n",
       "      <td>378.66</td>\n",
       "      <td>0</td>\n",
       "    </tr>\n",
       "    <tr>\n",
       "      <th>3</th>\n",
       "      <td>1.0</td>\n",
       "      <td>-0.966272</td>\n",
       "      <td>-0.185226</td>\n",
       "      <td>1.792993</td>\n",
       "      <td>-0.863291</td>\n",
       "      <td>-0.010309</td>\n",
       "      <td>1.247203</td>\n",
       "      <td>0.237609</td>\n",
       "      <td>0.377436</td>\n",
       "      <td>-1.387024</td>\n",
       "      <td>-0.054952</td>\n",
       "      <td>-0.226487</td>\n",
       "      <td>0.178228</td>\n",
       "      <td>0.507757</td>\n",
       "      <td>-0.287924</td>\n",
       "      <td>-0.631418</td>\n",
       "      <td>-1.059647</td>\n",
       "      <td>-0.684093</td>\n",
       "      <td>1.965775</td>\n",
       "      <td>-1.232622</td>\n",
       "      <td>-0.208038</td>\n",
       "      <td>-0.108300</td>\n",
       "      <td>0.005274</td>\n",
       "      <td>-0.190321</td>\n",
       "      <td>-1.175575</td>\n",
       "      <td>0.647376</td>\n",
       "      <td>-0.221929</td>\n",
       "      <td>0.062723</td>\n",
       "      <td>0.061458</td>\n",
       "      <td>123.50</td>\n",
       "      <td>0</td>\n",
       "    </tr>\n",
       "    <tr>\n",
       "      <th>4</th>\n",
       "      <td>2.0</td>\n",
       "      <td>-1.158233</td>\n",
       "      <td>0.877737</td>\n",
       "      <td>1.548718</td>\n",
       "      <td>0.403034</td>\n",
       "      <td>-0.407193</td>\n",
       "      <td>0.095921</td>\n",
       "      <td>0.592941</td>\n",
       "      <td>-0.270533</td>\n",
       "      <td>0.817739</td>\n",
       "      <td>0.753074</td>\n",
       "      <td>-0.822843</td>\n",
       "      <td>0.538196</td>\n",
       "      <td>1.345852</td>\n",
       "      <td>-1.119670</td>\n",
       "      <td>0.175121</td>\n",
       "      <td>-0.451449</td>\n",
       "      <td>-0.237033</td>\n",
       "      <td>-0.038195</td>\n",
       "      <td>0.803487</td>\n",
       "      <td>0.408542</td>\n",
       "      <td>-0.009431</td>\n",
       "      <td>0.798278</td>\n",
       "      <td>-0.137458</td>\n",
       "      <td>0.141267</td>\n",
       "      <td>-0.206010</td>\n",
       "      <td>0.502292</td>\n",
       "      <td>0.219422</td>\n",
       "      <td>0.215153</td>\n",
       "      <td>69.99</td>\n",
       "      <td>0</td>\n",
       "    </tr>\n",
       "  </tbody>\n",
       "</table>\n",
       "</div>"
      ],
      "text/plain": [
       "   Time        F1        F2        F3        F4        F5        F6        F7  \\\n",
       "0   0.0 -1.359807 -0.072781  2.536347  1.378155 -0.338321  0.462388  0.239599   \n",
       "1   0.0  1.191857  0.266151  0.166480  0.448154  0.060018 -0.082361 -0.078803   \n",
       "2   1.0 -1.358354 -1.340163  1.773209  0.379780 -0.503198  1.800499  0.791461   \n",
       "3   1.0 -0.966272 -0.185226  1.792993 -0.863291 -0.010309  1.247203  0.237609   \n",
       "4   2.0 -1.158233  0.877737  1.548718  0.403034 -0.407193  0.095921  0.592941   \n",
       "\n",
       "         F8        F9       F10       F11       F12       F13       F14  \\\n",
       "0  0.098698  0.363787  0.090794 -0.551600 -0.617801 -0.991390 -0.311169   \n",
       "1  0.085102 -0.255425 -0.166974  1.612727  1.065235  0.489095 -0.143772   \n",
       "2  0.247676 -1.514654  0.207643  0.624501  0.066084  0.717293 -0.165946   \n",
       "3  0.377436 -1.387024 -0.054952 -0.226487  0.178228  0.507757 -0.287924   \n",
       "4 -0.270533  0.817739  0.753074 -0.822843  0.538196  1.345852 -1.119670   \n",
       "\n",
       "        F15       F16       F17       F18       F19       F20       F21  \\\n",
       "0  1.468177 -0.470401  0.207971  0.025791  0.403993  0.251412 -0.018307   \n",
       "1  0.635558  0.463917 -0.114805 -0.183361 -0.145783 -0.069083 -0.225775   \n",
       "2  2.345865 -2.890083  1.109969 -0.121359 -2.261857  0.524980  0.247998   \n",
       "3 -0.631418 -1.059647 -0.684093  1.965775 -1.232622 -0.208038 -0.108300   \n",
       "4  0.175121 -0.451449 -0.237033 -0.038195  0.803487  0.408542 -0.009431   \n",
       "\n",
       "        F22       F23       F24       F25       F26       F27       F28  \\\n",
       "0  0.277838 -0.110474  0.066928  0.128539 -0.189115  0.133558 -0.021053   \n",
       "1 -0.638672  0.101288 -0.339846  0.167170  0.125895 -0.008983  0.014724   \n",
       "2  0.771679  0.909412 -0.689281 -0.327642 -0.139097 -0.055353 -0.059752   \n",
       "3  0.005274 -0.190321 -1.175575  0.647376 -0.221929  0.062723  0.061458   \n",
       "4  0.798278 -0.137458  0.141267 -0.206010  0.502292  0.219422  0.215153   \n",
       "\n",
       "   Amount  is_fraud  \n",
       "0  149.62         0  \n",
       "1    2.69         0  \n",
       "2  378.66         0  \n",
       "3  123.50         0  \n",
       "4   69.99         0  "
      ]
     },
     "execution_count": 2,
     "metadata": {},
     "output_type": "execute_result"
    }
   ],
   "source": [
    "#Read the data\n",
    "df = pd.read_csv('C:/Users/Karthik.Iyer/Downloads/AccelerateAI/cc_fraud_analysis.csv')\n",
    "df.head()"
   ]
  },
  {
   "cell_type": "markdown",
   "id": "29ffe832",
   "metadata": {},
   "source": [
    "1. The time is recorded in the number of seconds since the first transaction in the data set. Therefore, we can conclude that this data set includes all transactions recorded over the course of two days. \n",
    "2. The features F1 to F28 look different from other features which are Time and  Amount. May be that the features F1 to F28 was prepared using PCA and if so, the physical interpretation of individual features does not make sense. \n",
    "3. The only features which have not been transformed with PCA are ‘Time’ and ‘Amount’. Feature ‘is_fraud’ is the response variable and it takes value 1 in case of fraud and 0 otherwise."
   ]
  },
  {
   "cell_type": "code",
   "execution_count": 3,
   "id": "4f63b370",
   "metadata": {},
   "outputs": [
    {
     "data": {
      "text/plain": [
       "(284807, 31)"
      ]
     },
     "execution_count": 3,
     "metadata": {},
     "output_type": "execute_result"
    }
   ],
   "source": [
    "#Read the shape\n",
    "df.shape"
   ]
  },
  {
   "cell_type": "code",
   "execution_count": 4,
   "id": "36e5d136",
   "metadata": {
    "scrolled": true
   },
   "outputs": [
    {
     "name": "stdout",
     "output_type": "stream",
     "text": [
      "<class 'pandas.core.frame.DataFrame'>\n",
      "RangeIndex: 284807 entries, 0 to 284806\n",
      "Data columns (total 31 columns):\n",
      " #   Column    Non-Null Count   Dtype  \n",
      "---  ------    --------------   -----  \n",
      " 0   Time      284807 non-null  float64\n",
      " 1   F1        284807 non-null  float64\n",
      " 2   F2        284807 non-null  float64\n",
      " 3   F3        284807 non-null  float64\n",
      " 4   F4        284807 non-null  float64\n",
      " 5   F5        284807 non-null  float64\n",
      " 6   F6        284807 non-null  float64\n",
      " 7   F7        284807 non-null  float64\n",
      " 8   F8        284807 non-null  float64\n",
      " 9   F9        284807 non-null  float64\n",
      " 10  F10       284807 non-null  float64\n",
      " 11  F11       284807 non-null  float64\n",
      " 12  F12       284807 non-null  float64\n",
      " 13  F13       284807 non-null  float64\n",
      " 14  F14       284807 non-null  float64\n",
      " 15  F15       284807 non-null  float64\n",
      " 16  F16       284807 non-null  float64\n",
      " 17  F17       284807 non-null  float64\n",
      " 18  F18       284807 non-null  float64\n",
      " 19  F19       284807 non-null  float64\n",
      " 20  F20       284807 non-null  float64\n",
      " 21  F21       284807 non-null  float64\n",
      " 22  F22       284807 non-null  float64\n",
      " 23  F23       284807 non-null  float64\n",
      " 24  F24       284807 non-null  float64\n",
      " 25  F25       284807 non-null  float64\n",
      " 26  F26       284807 non-null  float64\n",
      " 27  F27       284807 non-null  float64\n",
      " 28  F28       284807 non-null  float64\n",
      " 29  Amount    284807 non-null  float64\n",
      " 30  is_fraud  284807 non-null  int64  \n",
      "dtypes: float64(30), int64(1)\n",
      "memory usage: 67.4 MB\n"
     ]
    }
   ],
   "source": [
    "#Check data types\n",
    "df.info()"
   ]
  },
  {
   "cell_type": "code",
   "execution_count": 5,
   "id": "4b1fcaff",
   "metadata": {},
   "outputs": [
    {
     "data": {
      "text/plain": [
       "0"
      ]
     },
     "execution_count": 5,
     "metadata": {},
     "output_type": "execute_result"
    }
   ],
   "source": [
    "#Check missing values\n",
    "df.isnull().sum().sum()"
   ]
  },
  {
   "cell_type": "markdown",
   "id": "6e1c5c1f",
   "metadata": {},
   "source": [
    "There are no missing values"
   ]
  },
  {
   "cell_type": "code",
   "execution_count": 6,
   "id": "931d3e7f",
   "metadata": {
    "scrolled": true
   },
   "outputs": [
    {
     "data": {
      "text/html": [
       "<div>\n",
       "<style scoped>\n",
       "    .dataframe tbody tr th:only-of-type {\n",
       "        vertical-align: middle;\n",
       "    }\n",
       "\n",
       "    .dataframe tbody tr th {\n",
       "        vertical-align: top;\n",
       "    }\n",
       "\n",
       "    .dataframe thead th {\n",
       "        text-align: right;\n",
       "    }\n",
       "</style>\n",
       "<table border=\"1\" class=\"dataframe\">\n",
       "  <thead>\n",
       "    <tr style=\"text-align: right;\">\n",
       "      <th></th>\n",
       "      <th>count</th>\n",
       "      <th>mean</th>\n",
       "      <th>std</th>\n",
       "      <th>min</th>\n",
       "      <th>25%</th>\n",
       "      <th>50%</th>\n",
       "      <th>75%</th>\n",
       "      <th>max</th>\n",
       "    </tr>\n",
       "  </thead>\n",
       "  <tbody>\n",
       "    <tr>\n",
       "      <th>Time</th>\n",
       "      <td>284807.0</td>\n",
       "      <td>9.481386e+04</td>\n",
       "      <td>47488.145955</td>\n",
       "      <td>0.000000</td>\n",
       "      <td>54201.500000</td>\n",
       "      <td>84692.000000</td>\n",
       "      <td>139320.500000</td>\n",
       "      <td>172792.000000</td>\n",
       "    </tr>\n",
       "    <tr>\n",
       "      <th>F1</th>\n",
       "      <td>284807.0</td>\n",
       "      <td>1.758702e-12</td>\n",
       "      <td>1.958696</td>\n",
       "      <td>-56.407510</td>\n",
       "      <td>-0.920373</td>\n",
       "      <td>0.018109</td>\n",
       "      <td>1.315642</td>\n",
       "      <td>2.454930</td>\n",
       "    </tr>\n",
       "    <tr>\n",
       "      <th>F2</th>\n",
       "      <td>284807.0</td>\n",
       "      <td>-8.252296e-13</td>\n",
       "      <td>1.651309</td>\n",
       "      <td>-72.715728</td>\n",
       "      <td>-0.598550</td>\n",
       "      <td>0.065486</td>\n",
       "      <td>0.803724</td>\n",
       "      <td>22.057729</td>\n",
       "    </tr>\n",
       "    <tr>\n",
       "      <th>F3</th>\n",
       "      <td>284807.0</td>\n",
       "      <td>-9.637438e-13</td>\n",
       "      <td>1.516255</td>\n",
       "      <td>-48.325589</td>\n",
       "      <td>-0.890365</td>\n",
       "      <td>0.179846</td>\n",
       "      <td>1.027196</td>\n",
       "      <td>9.382558</td>\n",
       "    </tr>\n",
       "    <tr>\n",
       "      <th>F4</th>\n",
       "      <td>284807.0</td>\n",
       "      <td>8.316234e-13</td>\n",
       "      <td>1.415869</td>\n",
       "      <td>-5.683171</td>\n",
       "      <td>-0.848640</td>\n",
       "      <td>-0.019847</td>\n",
       "      <td>0.743341</td>\n",
       "      <td>16.875344</td>\n",
       "    </tr>\n",
       "    <tr>\n",
       "      <th>F5</th>\n",
       "      <td>284807.0</td>\n",
       "      <td>1.592013e-13</td>\n",
       "      <td>1.380247</td>\n",
       "      <td>-113.743307</td>\n",
       "      <td>-0.691597</td>\n",
       "      <td>-0.054336</td>\n",
       "      <td>0.611926</td>\n",
       "      <td>34.801666</td>\n",
       "    </tr>\n",
       "    <tr>\n",
       "      <th>F6</th>\n",
       "      <td>284807.0</td>\n",
       "      <td>4.247308e-13</td>\n",
       "      <td>1.332271</td>\n",
       "      <td>-26.160506</td>\n",
       "      <td>-0.768296</td>\n",
       "      <td>-0.274187</td>\n",
       "      <td>0.398565</td>\n",
       "      <td>73.301626</td>\n",
       "    </tr>\n",
       "    <tr>\n",
       "      <th>F7</th>\n",
       "      <td>284807.0</td>\n",
       "      <td>-3.050183e-13</td>\n",
       "      <td>1.237094</td>\n",
       "      <td>-43.557242</td>\n",
       "      <td>-0.554076</td>\n",
       "      <td>0.040103</td>\n",
       "      <td>0.570436</td>\n",
       "      <td>120.589494</td>\n",
       "    </tr>\n",
       "    <tr>\n",
       "      <th>F8</th>\n",
       "      <td>284807.0</td>\n",
       "      <td>8.692882e-14</td>\n",
       "      <td>1.194353</td>\n",
       "      <td>-73.216718</td>\n",
       "      <td>-0.208630</td>\n",
       "      <td>0.022358</td>\n",
       "      <td>0.327346</td>\n",
       "      <td>20.007208</td>\n",
       "    </tr>\n",
       "    <tr>\n",
       "      <th>F9</th>\n",
       "      <td>284807.0</td>\n",
       "      <td>-1.179710e-12</td>\n",
       "      <td>1.098632</td>\n",
       "      <td>-13.434066</td>\n",
       "      <td>-0.643098</td>\n",
       "      <td>-0.051429</td>\n",
       "      <td>0.597139</td>\n",
       "      <td>15.594995</td>\n",
       "    </tr>\n",
       "    <tr>\n",
       "      <th>F10</th>\n",
       "      <td>284807.0</td>\n",
       "      <td>7.094921e-13</td>\n",
       "      <td>1.088850</td>\n",
       "      <td>-24.588262</td>\n",
       "      <td>-0.535426</td>\n",
       "      <td>-0.092917</td>\n",
       "      <td>0.453923</td>\n",
       "      <td>23.745136</td>\n",
       "    </tr>\n",
       "    <tr>\n",
       "      <th>F11</th>\n",
       "      <td>284807.0</td>\n",
       "      <td>1.875022e-12</td>\n",
       "      <td>1.020713</td>\n",
       "      <td>-4.797473</td>\n",
       "      <td>-0.762494</td>\n",
       "      <td>-0.032757</td>\n",
       "      <td>0.739593</td>\n",
       "      <td>12.018913</td>\n",
       "    </tr>\n",
       "    <tr>\n",
       "      <th>F12</th>\n",
       "      <td>284807.0</td>\n",
       "      <td>1.053507e-12</td>\n",
       "      <td>0.999201</td>\n",
       "      <td>-18.683715</td>\n",
       "      <td>-0.405571</td>\n",
       "      <td>0.140033</td>\n",
       "      <td>0.618238</td>\n",
       "      <td>7.848392</td>\n",
       "    </tr>\n",
       "    <tr>\n",
       "      <th>F13</th>\n",
       "      <td>284807.0</td>\n",
       "      <td>7.137575e-13</td>\n",
       "      <td>0.995274</td>\n",
       "      <td>-5.791881</td>\n",
       "      <td>-0.648539</td>\n",
       "      <td>-0.013568</td>\n",
       "      <td>0.662505</td>\n",
       "      <td>7.126883</td>\n",
       "    </tr>\n",
       "    <tr>\n",
       "      <th>F14</th>\n",
       "      <td>284807.0</td>\n",
       "      <td>-1.491369e-13</td>\n",
       "      <td>0.958596</td>\n",
       "      <td>-19.214325</td>\n",
       "      <td>-0.425574</td>\n",
       "      <td>0.050601</td>\n",
       "      <td>0.493150</td>\n",
       "      <td>10.526766</td>\n",
       "    </tr>\n",
       "    <tr>\n",
       "      <th>F15</th>\n",
       "      <td>284807.0</td>\n",
       "      <td>-5.225946e-13</td>\n",
       "      <td>0.915316</td>\n",
       "      <td>-4.498945</td>\n",
       "      <td>-0.582884</td>\n",
       "      <td>0.048072</td>\n",
       "      <td>0.648821</td>\n",
       "      <td>8.877742</td>\n",
       "    </tr>\n",
       "    <tr>\n",
       "      <th>F16</th>\n",
       "      <td>284807.0</td>\n",
       "      <td>-2.280687e-13</td>\n",
       "      <td>0.876253</td>\n",
       "      <td>-14.129855</td>\n",
       "      <td>-0.468037</td>\n",
       "      <td>0.066413</td>\n",
       "      <td>0.523296</td>\n",
       "      <td>17.315112</td>\n",
       "    </tr>\n",
       "    <tr>\n",
       "      <th>F17</th>\n",
       "      <td>284807.0</td>\n",
       "      <td>-6.428451e-13</td>\n",
       "      <td>0.849337</td>\n",
       "      <td>-25.162799</td>\n",
       "      <td>-0.483748</td>\n",
       "      <td>-0.065676</td>\n",
       "      <td>0.399675</td>\n",
       "      <td>9.253526</td>\n",
       "    </tr>\n",
       "    <tr>\n",
       "      <th>F18</th>\n",
       "      <td>284807.0</td>\n",
       "      <td>4.958999e-13</td>\n",
       "      <td>0.838176</td>\n",
       "      <td>-9.498746</td>\n",
       "      <td>-0.498850</td>\n",
       "      <td>-0.003636</td>\n",
       "      <td>0.500807</td>\n",
       "      <td>5.041069</td>\n",
       "    </tr>\n",
       "    <tr>\n",
       "      <th>F19</th>\n",
       "      <td>284807.0</td>\n",
       "      <td>7.060690e-13</td>\n",
       "      <td>0.814041</td>\n",
       "      <td>-7.213527</td>\n",
       "      <td>-0.456299</td>\n",
       "      <td>0.003735</td>\n",
       "      <td>0.458949</td>\n",
       "      <td>5.591971</td>\n",
       "    </tr>\n",
       "    <tr>\n",
       "      <th>F20</th>\n",
       "      <td>284807.0</td>\n",
       "      <td>1.766044e-12</td>\n",
       "      <td>0.770925</td>\n",
       "      <td>-54.497720</td>\n",
       "      <td>-0.211721</td>\n",
       "      <td>-0.062481</td>\n",
       "      <td>0.133041</td>\n",
       "      <td>39.420904</td>\n",
       "    </tr>\n",
       "    <tr>\n",
       "      <th>F21</th>\n",
       "      <td>284807.0</td>\n",
       "      <td>-3.406538e-13</td>\n",
       "      <td>0.734524</td>\n",
       "      <td>-34.830382</td>\n",
       "      <td>-0.228395</td>\n",
       "      <td>-0.029450</td>\n",
       "      <td>0.186377</td>\n",
       "      <td>27.202839</td>\n",
       "    </tr>\n",
       "    <tr>\n",
       "      <th>F22</th>\n",
       "      <td>284807.0</td>\n",
       "      <td>-5.713357e-13</td>\n",
       "      <td>0.725702</td>\n",
       "      <td>-10.933144</td>\n",
       "      <td>-0.542350</td>\n",
       "      <td>0.006782</td>\n",
       "      <td>0.528554</td>\n",
       "      <td>10.503090</td>\n",
       "    </tr>\n",
       "    <tr>\n",
       "      <th>F23</th>\n",
       "      <td>284807.0</td>\n",
       "      <td>-9.725290e-13</td>\n",
       "      <td>0.624460</td>\n",
       "      <td>-44.807735</td>\n",
       "      <td>-0.161846</td>\n",
       "      <td>-0.011193</td>\n",
       "      <td>0.147642</td>\n",
       "      <td>22.528412</td>\n",
       "    </tr>\n",
       "    <tr>\n",
       "      <th>F24</th>\n",
       "      <td>284807.0</td>\n",
       "      <td>1.464144e-12</td>\n",
       "      <td>0.605647</td>\n",
       "      <td>-2.836627</td>\n",
       "      <td>-0.354586</td>\n",
       "      <td>0.040976</td>\n",
       "      <td>0.439527</td>\n",
       "      <td>4.584549</td>\n",
       "    </tr>\n",
       "    <tr>\n",
       "      <th>F25</th>\n",
       "      <td>284807.0</td>\n",
       "      <td>-6.989090e-13</td>\n",
       "      <td>0.521278</td>\n",
       "      <td>-10.295397</td>\n",
       "      <td>-0.317145</td>\n",
       "      <td>0.016594</td>\n",
       "      <td>0.350716</td>\n",
       "      <td>7.519589</td>\n",
       "    </tr>\n",
       "    <tr>\n",
       "      <th>F26</th>\n",
       "      <td>284807.0</td>\n",
       "      <td>-5.615254e-13</td>\n",
       "      <td>0.482227</td>\n",
       "      <td>-2.604551</td>\n",
       "      <td>-0.326984</td>\n",
       "      <td>-0.052139</td>\n",
       "      <td>0.240952</td>\n",
       "      <td>3.517346</td>\n",
       "    </tr>\n",
       "    <tr>\n",
       "      <th>F27</th>\n",
       "      <td>284807.0</td>\n",
       "      <td>3.332111e-12</td>\n",
       "      <td>0.403632</td>\n",
       "      <td>-22.565679</td>\n",
       "      <td>-0.070840</td>\n",
       "      <td>0.001342</td>\n",
       "      <td>0.091045</td>\n",
       "      <td>31.612198</td>\n",
       "    </tr>\n",
       "    <tr>\n",
       "      <th>F28</th>\n",
       "      <td>284807.0</td>\n",
       "      <td>-3.518885e-12</td>\n",
       "      <td>0.330083</td>\n",
       "      <td>-15.430084</td>\n",
       "      <td>-0.052960</td>\n",
       "      <td>0.011244</td>\n",
       "      <td>0.078280</td>\n",
       "      <td>33.847808</td>\n",
       "    </tr>\n",
       "    <tr>\n",
       "      <th>Amount</th>\n",
       "      <td>284807.0</td>\n",
       "      <td>8.834962e+01</td>\n",
       "      <td>250.120109</td>\n",
       "      <td>0.000000</td>\n",
       "      <td>5.600000</td>\n",
       "      <td>22.000000</td>\n",
       "      <td>77.165000</td>\n",
       "      <td>25691.160000</td>\n",
       "    </tr>\n",
       "    <tr>\n",
       "      <th>is_fraud</th>\n",
       "      <td>284807.0</td>\n",
       "      <td>1.727486e-03</td>\n",
       "      <td>0.041527</td>\n",
       "      <td>0.000000</td>\n",
       "      <td>0.000000</td>\n",
       "      <td>0.000000</td>\n",
       "      <td>0.000000</td>\n",
       "      <td>1.000000</td>\n",
       "    </tr>\n",
       "  </tbody>\n",
       "</table>\n",
       "</div>"
      ],
      "text/plain": [
       "             count          mean           std         min           25%  \\\n",
       "Time      284807.0  9.481386e+04  47488.145955    0.000000  54201.500000   \n",
       "F1        284807.0  1.758702e-12      1.958696  -56.407510     -0.920373   \n",
       "F2        284807.0 -8.252296e-13      1.651309  -72.715728     -0.598550   \n",
       "F3        284807.0 -9.637438e-13      1.516255  -48.325589     -0.890365   \n",
       "F4        284807.0  8.316234e-13      1.415869   -5.683171     -0.848640   \n",
       "F5        284807.0  1.592013e-13      1.380247 -113.743307     -0.691597   \n",
       "F6        284807.0  4.247308e-13      1.332271  -26.160506     -0.768296   \n",
       "F7        284807.0 -3.050183e-13      1.237094  -43.557242     -0.554076   \n",
       "F8        284807.0  8.692882e-14      1.194353  -73.216718     -0.208630   \n",
       "F9        284807.0 -1.179710e-12      1.098632  -13.434066     -0.643098   \n",
       "F10       284807.0  7.094921e-13      1.088850  -24.588262     -0.535426   \n",
       "F11       284807.0  1.875022e-12      1.020713   -4.797473     -0.762494   \n",
       "F12       284807.0  1.053507e-12      0.999201  -18.683715     -0.405571   \n",
       "F13       284807.0  7.137575e-13      0.995274   -5.791881     -0.648539   \n",
       "F14       284807.0 -1.491369e-13      0.958596  -19.214325     -0.425574   \n",
       "F15       284807.0 -5.225946e-13      0.915316   -4.498945     -0.582884   \n",
       "F16       284807.0 -2.280687e-13      0.876253  -14.129855     -0.468037   \n",
       "F17       284807.0 -6.428451e-13      0.849337  -25.162799     -0.483748   \n",
       "F18       284807.0  4.958999e-13      0.838176   -9.498746     -0.498850   \n",
       "F19       284807.0  7.060690e-13      0.814041   -7.213527     -0.456299   \n",
       "F20       284807.0  1.766044e-12      0.770925  -54.497720     -0.211721   \n",
       "F21       284807.0 -3.406538e-13      0.734524  -34.830382     -0.228395   \n",
       "F22       284807.0 -5.713357e-13      0.725702  -10.933144     -0.542350   \n",
       "F23       284807.0 -9.725290e-13      0.624460  -44.807735     -0.161846   \n",
       "F24       284807.0  1.464144e-12      0.605647   -2.836627     -0.354586   \n",
       "F25       284807.0 -6.989090e-13      0.521278  -10.295397     -0.317145   \n",
       "F26       284807.0 -5.615254e-13      0.482227   -2.604551     -0.326984   \n",
       "F27       284807.0  3.332111e-12      0.403632  -22.565679     -0.070840   \n",
       "F28       284807.0 -3.518885e-12      0.330083  -15.430084     -0.052960   \n",
       "Amount    284807.0  8.834962e+01    250.120109    0.000000      5.600000   \n",
       "is_fraud  284807.0  1.727486e-03      0.041527    0.000000      0.000000   \n",
       "\n",
       "                   50%            75%            max  \n",
       "Time      84692.000000  139320.500000  172792.000000  \n",
       "F1            0.018109       1.315642       2.454930  \n",
       "F2            0.065486       0.803724      22.057729  \n",
       "F3            0.179846       1.027196       9.382558  \n",
       "F4           -0.019847       0.743341      16.875344  \n",
       "F5           -0.054336       0.611926      34.801666  \n",
       "F6           -0.274187       0.398565      73.301626  \n",
       "F7            0.040103       0.570436     120.589494  \n",
       "F8            0.022358       0.327346      20.007208  \n",
       "F9           -0.051429       0.597139      15.594995  \n",
       "F10          -0.092917       0.453923      23.745136  \n",
       "F11          -0.032757       0.739593      12.018913  \n",
       "F12           0.140033       0.618238       7.848392  \n",
       "F13          -0.013568       0.662505       7.126883  \n",
       "F14           0.050601       0.493150      10.526766  \n",
       "F15           0.048072       0.648821       8.877742  \n",
       "F16           0.066413       0.523296      17.315112  \n",
       "F17          -0.065676       0.399675       9.253526  \n",
       "F18          -0.003636       0.500807       5.041069  \n",
       "F19           0.003735       0.458949       5.591971  \n",
       "F20          -0.062481       0.133041      39.420904  \n",
       "F21          -0.029450       0.186377      27.202839  \n",
       "F22           0.006782       0.528554      10.503090  \n",
       "F23          -0.011193       0.147642      22.528412  \n",
       "F24           0.040976       0.439527       4.584549  \n",
       "F25           0.016594       0.350716       7.519589  \n",
       "F26          -0.052139       0.240952       3.517346  \n",
       "F27           0.001342       0.091045      31.612198  \n",
       "F28           0.011244       0.078280      33.847808  \n",
       "Amount       22.000000      77.165000   25691.160000  \n",
       "is_fraud      0.000000       0.000000       1.000000  "
      ]
     },
     "execution_count": 6,
     "metadata": {},
     "output_type": "execute_result"
    }
   ],
   "source": [
    "#Lets describe the dataframe\n",
    "df.describe().T"
   ]
  },
  {
   "cell_type": "code",
   "execution_count": 7,
   "id": "4a991a65",
   "metadata": {},
   "outputs": [
    {
     "data": {
      "image/png": "[encoded data removed]",
      "text/plain": [
       "<Figure size 1296x288 with 2 Axes>"
      ]
     },
     "metadata": {
      "needs_background": "light"
     },
     "output_type": "display_data"
    }
   ],
   "source": [
    "f, axes = plt.subplots(1, 2, figsize=(18,4), sharex = True)\n",
    "\n",
    "amount_val = df['Amount'].values\n",
    "time_val = df['Time'].values\n",
    "\n",
    "sns.distplot(amount_val, hist=False, color=\"m\", kde_kws={\"shade\": True}, ax=axes[0]).set_title('Distribution of Transaction Amount')\n",
    "sns.distplot(time_val, hist=False, color=\"m\", kde_kws={\"shade\": True}, ax=axes[1]).set_title('Distribution of Transaction Time')\n",
    "\n",
    "plt.show()"
   ]
  },
  {
   "cell_type": "markdown",
   "id": "bdf174a4",
   "metadata": {},
   "source": [
    "Looking at the distribution of the two named features in the dataset i.e. Time and Amount. For Time, it is clear that there were certain duration in the day when most of the transactions took place."
   ]
  },
  {
   "cell_type": "code",
   "execution_count": 8,
   "id": "6da2c108",
   "metadata": {},
   "outputs": [
    {
     "data": {
      "text/plain": [
       "count    284315.000000\n",
       "mean         88.291022\n",
       "std         250.105092\n",
       "min           0.000000\n",
       "25%           5.650000\n",
       "50%          22.000000\n",
       "75%          77.050000\n",
       "max       25691.160000\n",
       "Name: Amount, dtype: float64"
      ]
     },
     "execution_count": 8,
     "metadata": {},
     "output_type": "execute_result"
    }
   ],
   "source": [
    "#Lets look at distribution of Amount variable with respect to Class\n",
    "df[df.is_fraud == 0].Amount.describe()"
   ]
  },
  {
   "cell_type": "code",
   "execution_count": 9,
   "id": "b52e500b",
   "metadata": {},
   "outputs": [
    {
     "data": {
      "text/plain": [
       "count     492.000000\n",
       "mean      122.211321\n",
       "std       256.683288\n",
       "min         0.000000\n",
       "25%         1.000000\n",
       "50%         9.250000\n",
       "75%       105.890000\n",
       "max      2125.870000\n",
       "Name: Amount, dtype: float64"
      ]
     },
     "execution_count": 9,
     "metadata": {},
     "output_type": "execute_result"
    }
   ],
   "source": [
    "df[df.is_fraud == 1].Amount.describe()"
   ]
  },
  {
   "cell_type": "markdown",
   "id": "26207e2c",
   "metadata": {},
   "source": [
    "As we can clearly notice from the above distribution of Amount variable w.r.t. is_fraud, the average Money transaction for the fraudulent ones are more. This makes this problem crucial to deal with."
   ]
  },
  {
   "cell_type": "markdown",
   "id": "acf678c1",
   "metadata": {},
   "source": [
    "Here we will observe the distribution of our classes"
   ]
  },
  {
   "cell_type": "code",
   "execution_count": 10,
   "id": "cf84e1a0",
   "metadata": {},
   "outputs": [
    {
     "name": "stdout",
     "output_type": "stream",
     "text": [
      "99.82725143693798\n",
      "0.1727485630620034\n"
     ]
    }
   ],
   "source": [
    "classes=df['is_fraud'].value_counts()\n",
    "normal_share=classes[0]/df['is_fraud'].count()*100\n",
    "fraud_share=classes[1]/df['is_fraud'].count()*100\n",
    "\n",
    "print(normal_share)\n",
    "print(fraud_share)"
   ]
  },
  {
   "cell_type": "code",
   "execution_count": 11,
   "id": "8f215fbe",
   "metadata": {},
   "outputs": [],
   "source": [
    "#Lets create a list of labels which can be used in data visualizations. \n",
    "#Normal indicate Class 0 which are non-fraudulent transactions. Fraud indicate class 1 which are fraudulent transactions.\n",
    "LABELS = ['Normal','Fraud']"
   ]
  },
  {
   "cell_type": "code",
   "execution_count": 12,
   "id": "bcb407c0",
   "metadata": {},
   "outputs": [
    {
     "data": {
      "image/png": "[encoded data removed]",
      "text/plain": [
       "<Figure size 432x288 with 1 Axes>"
      ]
     },
     "metadata": {
      "needs_background": "light"
     },
     "output_type": "display_data"
    }
   ],
   "source": [
    "# Create a bar plot for the number and percentage of fraudulent vs non-fraudulent transcations\n",
    "classes.plot(kind='bar', rot=0)\n",
    "plt.title(\"Transaction Class Distribution\")\n",
    "plt.xticks(range(2), LABELS)\n",
    "plt.xlabel(\"Class\")\n",
    "plt.ylabel(\"Frequency\")\n",
    "plt.show()"
   ]
  },
  {
   "cell_type": "markdown",
   "id": "f4a67d0d",
   "metadata": {},
   "source": [
    "The plot indicates that the dataset is highly imbalanced."
   ]
  },
  {
   "cell_type": "code",
   "execution_count": 13,
   "id": "c08a0596",
   "metadata": {},
   "outputs": [
    {
     "data": {
      "text/plain": [
       "0              0.0\n",
       "1              0.0\n",
       "2              1.0\n",
       "3              1.0\n",
       "4              2.0\n",
       "            ...   \n",
       "284802    172786.0\n",
       "284803    172787.0\n",
       "284804    172788.0\n",
       "284805    172788.0\n",
       "284806    172792.0\n",
       "Name: Time, Length: 284807, dtype: float64"
      ]
     },
     "execution_count": 13,
     "metadata": {},
     "output_type": "execute_result"
    }
   ],
   "source": [
    "#Lets look at Time variable\n",
    "df.Time"
   ]
  },
  {
   "cell_type": "code",
   "execution_count": 14,
   "id": "44a14fc6",
   "metadata": {},
   "outputs": [],
   "source": [
    "# Drop unnecessary columns.\n",
    "df.drop(columns='Time', axis=1, inplace=True)"
   ]
  },
  {
   "cell_type": "markdown",
   "id": "f966dc6e",
   "metadata": {},
   "source": [
    "It could be that the Time variable is a misnomer here. It should have been serial no. as it does not capture the exact time the transaction was made but the time that is elapsed from offset. This can be dropped from the dataframe as it will not add any value in model building."
   ]
  },
  {
   "cell_type": "markdown",
   "id": "65579ca1",
   "metadata": {},
   "source": [
    "### Plotting the distribution of a variable"
   ]
  },
  {
   "cell_type": "code",
   "execution_count": 15,
   "id": "683ebfa3",
   "metadata": {},
   "outputs": [],
   "source": [
    "#Lets create a list of variables\n",
    "var_list = list(df.columns)"
   ]
  },
  {
   "cell_type": "code",
   "execution_count": 16,
   "id": "19d0801f",
   "metadata": {},
   "outputs": [],
   "source": [
    "# plot the histogram of a variable from the dataset to see the skewness\n",
    "def plot_hist(var_list):\n",
    "    for var in var_list:\n",
    "        if ((var not in ('Amount','Class')) and (df[var].dtype==np.float64)):\n",
    "            plt.hist(df[var])\n",
    "            plt.show()"
   ]
  },
  {
   "cell_type": "code",
   "execution_count": 17,
   "id": "706c07f4",
   "metadata": {},
   "outputs": [
    {
     "data": {
      "image/png": "[encoded data removed]",
      "text/plain": [
       "<Figure size 432x288 with 1 Axes>"
      ]
     },
     "metadata": {
      "needs_background": "light"
     },
     "output_type": "display_data"
    },
    {
     "data": {
      "image/png": "[encoded data removed]",
      "text/plain": [
       "<Figure size 432x288 with 1 Axes>"
      ]
     },
     "metadata": {
      "needs_background": "light"
     },
     "output_type": "display_data"
    },
    {
     "data": {
      "image/png": "[encoded data removed]",
      "text/plain": [
       "<Figure size 432x288 with 1 Axes>"
      ]
     },
     "metadata": {
      "needs_background": "light"
     },
     "output_type": "display_data"
    },
    {
     "data": {
      "image/png": "[encoded data removed]",
      "text/plain": [
       "<Figure size 432x288 with 1 Axes>"
      ]
     },
     "metadata": {
      "needs_background": "light"
     },
     "output_type": "display_data"
    },
    {
     "data": {
      "image/png": "[encoded data removed]",
      "text/plain": [
       "<Figure size 432x288 with 1 Axes>"
      ]
     },
     "metadata": {
      "needs_background": "light"
     },
     "output_type": "display_data"
    },
    {
     "data": {
      "image/png": "[encoded data removed]",
      "text/plain": [
       "<Figure size 432x288 with 1 Axes>"
      ]
     },
     "metadata": {
      "needs_background": "light"
     },
     "output_type": "display_data"
    },
    {
     "data": {
      "image/png": "[encoded data removed]",
      "text/plain": [
       "<Figure size 432x288 with 1 Axes>"
      ]
     },
     "metadata": {
      "needs_background": "light"
     },
     "output_type": "display_data"
    },
    {
     "data": {
      "image/png": "[encoded data removed]",
      "text/plain": [
       "<Figure size 432x288 with 1 Axes>"
      ]
     },
     "metadata": {
      "needs_background": "light"
     },
     "output_type": "display_data"
    },
    {
     "data": {
      "image/png": "[encoded data removed]",
      "text/plain": [
       "<Figure size 432x288 with 1 Axes>"
      ]
     },
     "metadata": {
      "needs_background": "light"
     },
     "output_type": "display_data"
    },
    {
     "data": {
      "image/png": "[encoded data removed]",
      "text/plain": [
       "<Figure size 432x288 with 1 Axes>"
      ]
     },
     "metadata": {
      "needs_background": "light"
     },
     "output_type": "display_data"
    },
    {
     "data": {
      "image/png": "[encoded data removed]",
      "text/plain": [
       "<Figure size 432x288 with 1 Axes>"
      ]
     },
     "metadata": {
      "needs_background": "light"
     },
     "output_type": "display_data"
    },
    {
     "data": {
      "image/png": "[encoded data removed]",
      "text/plain": [
       "<Figure size 432x288 with 1 Axes>"
      ]
     },
     "metadata": {
      "needs_background": "light"
     },
     "output_type": "display_data"
    },
    {
     "data": {
      "image/png": "[encoded data removed]",
      "text/plain": [
       "<Figure size 432x288 with 1 Axes>"
      ]
     },
     "metadata": {
      "needs_background": "light"
     },
     "output_type": "display_data"
    },
    {
     "data": {
      "image/png": "[encoded data removed]",
      "text/plain": [
       "<Figure size 432x288 with 1 Axes>"
      ]
     },
     "metadata": {
      "needs_background": "light"
     },
     "output_type": "display_data"
    },
    {
     "data": {
      "image/png": "[encoded data removed]",
      "text/plain": [
       "<Figure size 432x288 with 1 Axes>"
      ]
     },
     "metadata": {
      "needs_background": "light"
     },
     "output_type": "display_data"
    },
    {
     "data": {
      "image/png": "[encoded data removed]",
      "text/plain": [
       "<Figure size 432x288 with 1 Axes>"
      ]
     },
     "metadata": {
      "needs_background": "light"
     },
     "output_type": "display_data"
    },
    {
     "data": {
      "image/png": "[encoded data removed]",
      "text/plain": [
       "<Figure size 432x288 with 1 Axes>"
      ]
     },
     "metadata": {
      "needs_background": "light"
     },
     "output_type": "display_data"
    },
    {
     "data": {
      "image/png": "[encoded data removed]",
      "text/plain": [
       "<Figure size 432x288 with 1 Axes>"
      ]
     },
     "metadata": {
      "needs_background": "light"
     },
     "output_type": "display_data"
    },
    {
     "data": {
      "image/png": "[encoded data removed]",
      "text/plain": [
       "<Figure size 432x288 with 1 Axes>"
      ]
     },
     "metadata": {
      "needs_background": "light"
     },
     "output_type": "display_data"
    },
    {
     "data": {
      "image/png": "[encoded data removed]",
      "text/plain": [
       "<Figure size 432x288 with 1 Axes>"
      ]
     },
     "metadata": {
      "needs_background": "light"
     },
     "output_type": "display_data"
    },
    {
     "data": {
      "image/png": "[encoded data removed]",
      "text/plain": [
       "<Figure size 432x288 with 1 Axes>"
      ]
     },
     "metadata": {
      "needs_background": "light"
     },
     "output_type": "display_data"
    },
    {
     "data": {
      "image/png": "[encoded data removed]",
      "text/plain": [
       "<Figure size 432x288 with 1 Axes>"
      ]
     },
     "metadata": {
      "needs_background": "light"
     },
     "output_type": "display_data"
    },
    {
     "data": {
      "image/png": "[encoded data removed]",
      "text/plain": [
       "<Figure size 432x288 with 1 Axes>"
      ]
     },
     "metadata": {
      "needs_background": "light"
     },
     "output_type": "display_data"
    },
    {
     "data": {
      "image/png": "[encoded data removed]",
      "text/plain": [
       "<Figure size 432x288 with 1 Axes>"
      ]
     },
     "metadata": {
      "needs_background": "light"
     },
     "output_type": "display_data"
    },
    {
     "data": {
      "image/png": "[encoded data removed]",
      "text/plain": [
       "<Figure size 432x288 with 1 Axes>"
      ]
     },
     "metadata": {
      "needs_background": "light"
     },
     "output_type": "display_data"
    },
    {
     "data": {
      "image/png": "[encoded data removed]",
      "text/plain": [
       "<Figure size 432x288 with 1 Axes>"
      ]
     },
     "metadata": {
      "needs_background": "light"
     },
     "output_type": "display_data"
    },
    {
     "data": {
      "image/png": "[encoded data removed]",
      "text/plain": [
       "<Figure size 432x288 with 1 Axes>"
      ]
     },
     "metadata": {
      "needs_background": "light"
     },
     "output_type": "display_data"
    },
    {
     "data": {
      "image/png": "[encoded data removed]",
      "text/plain": [
       "<Figure size 432x288 with 1 Axes>"
      ]
     },
     "metadata": {
      "needs_background": "light"
     },
     "output_type": "display_data"
    }
   ],
   "source": [
    "plot_hist(var_list)"
   ]
  },
  {
   "cell_type": "markdown",
   "id": "9f9551e9",
   "metadata": {},
   "source": [
    "The histograms and their probability distributions for each of the variables seem like Gaussians. If we consider each of the original variable as random variable before PCA and we are adding those random variables together and when we do so, the resultant random variable will always look like Gaussian."
   ]
  },
  {
   "cell_type": "markdown",
   "id": "dbfd1dda",
   "metadata": {},
   "source": [
    "### Splitting the data into train & test data"
   ]
  },
  {
   "cell_type": "code",
   "execution_count": 18,
   "id": "52f9af04",
   "metadata": {},
   "outputs": [],
   "source": [
    "X = df.drop('is_fraud', axis=1)\n",
    "y = df.is_fraud"
   ]
  },
  {
   "cell_type": "code",
   "execution_count": 19,
   "id": "bb42f103",
   "metadata": {},
   "outputs": [],
   "source": [
    "from sklearn.model_selection import train_test_split\n",
    "\n",
    "X_train, X_test, y_train, y_test = train_test_split(X, y, test_size=0.25, random_state=1)"
   ]
  },
  {
   "cell_type": "markdown",
   "id": "aa74360a",
   "metadata": {},
   "source": [
    "##### Preserve X_test & y_test to evaluate on the test data once the model is trained"
   ]
  },
  {
   "cell_type": "code",
   "execution_count": 20,
   "id": "f5c5ea96",
   "metadata": {},
   "outputs": [
    {
     "name": "stdout",
     "output_type": "stream",
     "text": [
      "492\n",
      "381\n",
      "111\n"
     ]
    }
   ],
   "source": [
    "print(np.sum(y))\n",
    "print(np.sum(y_train))\n",
    "print(np.sum(y_test))"
   ]
  },
  {
   "cell_type": "markdown",
   "id": "aa13321e",
   "metadata": {},
   "source": [
    "## Training the Model\n",
    "- Train Logistic Regression on the imbalanced dataset and see the result"
   ]
  },
  {
   "cell_type": "markdown",
   "id": "1dbc19b5",
   "metadata": {},
   "source": [
    "A note on Performance Metrics for Classification:\n",
    "\n",
    "1. Accuracy\n",
    "2. Confusion Matrix\n",
    "3. Precision\n",
    "4. Recall\n",
    "5. F1 score\n",
    "6. AUC-ROC score\n",
    "\n",
    "Accuracy cannot be used here since the dataset is highly imbalanced and the results are always inclined towards the majority dataset.\n",
    "\n",
    "Confusion Matrix, Precision, Recall and F1 score - all these metrics are dependent on threshold. If we change the threshold, then all these metrics will change and they cannot be used to measure the model performance here.\n",
    "\n",
    "AUC-ROC score is the metric which is computed taking into account all the possible thresholds and are threshold independent. Higher the AUC-ROC score, better the classifier. Hence we will use AUC-ROC score as the metric for model performance."
   ]
  },
  {
   "cell_type": "code",
   "execution_count": 21,
   "id": "ccc3c7de",
   "metadata": {},
   "outputs": [],
   "source": [
    "# Logistic Regression\n",
    "from sklearn.linear_model import LogisticRegression\n",
    "from sklearn.metrics import confusion_matrix, roc_auc_score ,roc_curve,auc,RocCurveDisplay\n",
    "from sklearn.model_selection import GridSearchCV,StratifiedKFold"
   ]
  },
  {
   "cell_type": "code",
   "execution_count": 22,
   "id": "6ac2efd4",
   "metadata": {},
   "outputs": [
    {
     "name": "stdout",
     "output_type": "stream",
     "text": [
      "Fitting 5 folds for each of 17 candidates, totalling 85 fits\n"
     ]
    },
    {
     "data": {
      "text/plain": [
       "GridSearchCV(cv=StratifiedKFold(n_splits=5, random_state=1, shuffle=True),\n",
       "             estimator=LogisticRegression(max_iter=1200), n_jobs=-1,\n",
       "             param_grid={'C': [0.001, 0.003, 0.005, 0.01, 0.03, 0.05, 0.1, 0.3,\n",
       "                               0.5, 1, 2, 3, 3, 4, 5, 10, 20]},\n",
       "             scoring='roc_auc', verbose=1)"
      ]
     },
     "execution_count": 22,
     "metadata": {},
     "output_type": "execute_result"
    }
   ],
   "source": [
    "# Perform hyperparameter tuning with cross validation\n",
    "\n",
    "# Creating the hyperparameter grid\n",
    "c_space = [0.001,0.003,0.005,0.01,0.03,0.05,0.1,0.3,0.5,1,2,3,3,4,5,10,20]\n",
    "params = {'C': c_space}\n",
    "\n",
    "# Instantiating logistic regression classifier\n",
    "logreg = LogisticRegression(max_iter=1200) #maximum iterations 1200 was chosen after trying out various values: 200,500,800,1000,1200\n",
    "\n",
    "# create 5 folds\n",
    "folds = StratifiedKFold(n_splits = 5, shuffle = True, random_state = 1)\n",
    "\n",
    "logreg_cv = GridSearchCV(estimator=logreg, cv=folds, param_grid=params, scoring='roc_auc', n_jobs=-1, verbose=1)\n",
    "\n",
    "#fit the model\n",
    "logreg_cv.fit(X_train, y_train)"
   ]
  },
  {
   "cell_type": "code",
   "execution_count": 23,
   "id": "17f0fa8b",
   "metadata": {},
   "outputs": [
    {
     "name": "stdout",
     "output_type": "stream",
     "text": [
      "Best AUC:  0.980789326503649\n",
      "Best hyperparameters:  {'C': 0.001}\n"
     ]
    }
   ],
   "source": [
    "# print best hyperparameters\n",
    "print(\"Best AUC: \", logreg_cv.best_score_)\n",
    "print(\"Best hyperparameters: \", logreg_cv.best_params_)"
   ]
  },
  {
   "cell_type": "code",
   "execution_count": 24,
   "id": "c18d15f6",
   "metadata": {},
   "outputs": [
    {
     "name": "stdout",
     "output_type": "stream",
     "text": [
      "[[213195     29]\n",
      " [   176    205]]\n",
      "AUC:    \t 0.98\n"
     ]
    }
   ],
   "source": [
    "#Evaluate on train data\n",
    "# predict on train data\n",
    "y_train_pred = logreg_cv.predict(X_train)\n",
    "\n",
    "# create confusion matrix\n",
    "cm = confusion_matrix(y_train, y_train_pred)\n",
    "print(cm)\n",
    "\n",
    "# check area under curve\n",
    "y_train_pred_prob = logreg_cv.predict_proba(X_train)[:, 1]\n",
    "print(\"AUC:    \\t\", round(roc_auc_score(y_train, y_train_pred_prob),2))"
   ]
  },
  {
   "cell_type": "code",
   "execution_count": 25,
   "id": "a6f8ae32",
   "metadata": {},
   "outputs": [
    {
     "name": "stdout",
     "output_type": "stream",
     "text": [
      "[[71080    11]\n",
      " [   54    57]]\n",
      "AUC:    \t 0.99\n"
     ]
    }
   ],
   "source": [
    "# predict on test data\n",
    "y_pred = logreg_cv.predict(X_test)\n",
    "\n",
    "# create confusion matrix\n",
    "cm = confusion_matrix(y_test, y_pred)\n",
    "print(cm)\n",
    "\n",
    "# check area under curve\n",
    "y_pred_prob = logreg_cv.predict_proba(X_test)[:, 1]\n",
    "print(\"AUC:    \\t\", round(roc_auc_score(y_test, y_pred_prob),2))"
   ]
  },
  {
   "cell_type": "code",
   "execution_count": 26,
   "id": "ac558668",
   "metadata": {},
   "outputs": [
    {
     "data": {
      "text/html": [
       "<div>\n",
       "<style scoped>\n",
       "    .dataframe tbody tr th:only-of-type {\n",
       "        vertical-align: middle;\n",
       "    }\n",
       "\n",
       "    .dataframe tbody tr th {\n",
       "        vertical-align: top;\n",
       "    }\n",
       "\n",
       "    .dataframe thead th {\n",
       "        text-align: right;\n",
       "    }\n",
       "</style>\n",
       "<table border=\"1\" class=\"dataframe\">\n",
       "  <thead>\n",
       "    <tr style=\"text-align: right;\">\n",
       "      <th></th>\n",
       "      <th>Model</th>\n",
       "      <th>ROC-AUC Score</th>\n",
       "    </tr>\n",
       "  </thead>\n",
       "  <tbody>\n",
       "    <tr>\n",
       "      <th>0</th>\n",
       "      <td>Logistic Regression on imbalanced data</td>\n",
       "      <td>0.99</td>\n",
       "    </tr>\n",
       "  </tbody>\n",
       "</table>\n",
       "</div>"
      ],
      "text/plain": [
       "                                    Model  ROC-AUC Score\n",
       "0  Logistic Regression on imbalanced data           0.99"
      ]
     },
     "execution_count": 26,
     "metadata": {},
     "output_type": "execute_result"
    }
   ],
   "source": [
    "#Lets store the above results\n",
    "result = {\"Model\":[\"Logistic Regression on imbalanced data\"],\"ROC-AUC Score\":[round(roc_auc_score(y_test, y_pred_prob),2)]}\n",
    "result_df = pd.DataFrame(result)\n",
    "result_df"
   ]
  },
  {
   "cell_type": "code",
   "execution_count": 27,
   "id": "d3c714f5",
   "metadata": {},
   "outputs": [
    {
     "data": {
      "image/png": "[encoded data removed]",
      "text/plain": [
       "<Figure size 432x288 with 1 Axes>"
      ]
     },
     "metadata": {
      "needs_background": "light"
     },
     "output_type": "display_data"
    }
   ],
   "source": [
    "import scikitplot as skplt\n",
    "\n",
    "predicted_probas = logreg_cv.predict_proba(X_test)\n",
    "\n",
    "skplt.metrics.plot_roc(y_test, predicted_probas)\n",
    "\n",
    "plt.show()"
   ]
  },
  {
   "cell_type": "markdown",
   "id": "111eda62",
   "metadata": {},
   "source": [
    "## Training Model with balancing Classes\n",
    "\n",
    "##### Perform class balancing with :\n",
    "- Undersampling\n",
    "- Oversampling\n",
    "  - Uniform Oversampling\n",
    "  - Random Oversampling\n",
    "- SMOTE\n",
    "- ADASYN"
   ]
  },
  {
   "cell_type": "markdown",
   "id": "a716226b",
   "metadata": {},
   "source": [
    "1. Undersampling:\n",
    "\n",
    "Here the data points from majority class (non-fraud cases) are thrown away till it becomes equal to minority class (fraud cases). This is not advised as we lose lot of data from majority class. Data collection involves spending lot of resources and storing them. Hence Undersampling technique is not beneficial.\n",
    "\n",
    "2. Oversampling:\n",
    "\n",
    "Oversample the minority class till it becomes equal to majority class. There are two techiniques.\n",
    "\n",
    "Uniform Oversampling\n",
    "Random Oversampling\n",
    "SMOTE\n",
    "ADASYN\n",
    "\n",
    "3. Uniform Oversampling:\n",
    "\n",
    "In this case, each fraud data point which represent the minority class is copied over many times (this is determined by the ratio majority/minority). This is as good as stacking the same data points over and over on top of each other.\n",
    "\n",
    "4. Random Oversampling:\n",
    "\n",
    "In this case instead of copying over the data points uniformly, it will be done randomly.\n",
    "\n",
    "Lets oversample the data and visualize them."
   ]
  },
  {
   "cell_type": "code",
   "execution_count": 28,
   "id": "ad0971c6",
   "metadata": {},
   "outputs": [],
   "source": [
    "#Import the relevant package\n",
    "from imblearn.over_sampling import RandomOverSampler"
   ]
  },
  {
   "cell_type": "code",
   "execution_count": 29,
   "id": "ac1b0cf9",
   "metadata": {},
   "outputs": [
    {
     "name": "stdout",
     "output_type": "stream",
     "text": [
      "[(0, 213224), (1, 381)]\n",
      "[(0, 213224), (1, 213224)]\n"
     ]
    }
   ],
   "source": [
    "#Oversample the data\n",
    "ros = RandomOverSampler(random_state=1)\n",
    "X_resampled, y_resampled = ros.fit_resample(X_train, y_train)\n",
    "\n",
    "from collections import Counter\n",
    "\n",
    "print(sorted(Counter(y_train).items())) #before oversampling\n",
    "print(sorted(Counter(y_resampled).items())) #after oversampling"
   ]
  },
  {
   "cell_type": "code",
   "execution_count": 30,
   "id": "b643d46b",
   "metadata": {},
   "outputs": [
    {
     "data": {
      "image/png": "[encoded data removed]",
      "text/plain": [
       "<Figure size 1440x432 with 2 Axes>"
      ]
     },
     "metadata": {
      "needs_background": "light"
     },
     "output_type": "display_data"
    }
   ],
   "source": [
    "#Lets compare scatter plots before Oversampling and after Oversampling\n",
    "\n",
    "plt.figure(figsize = (20, 6))\n",
    "plt.subplot(1, 2, 1)\n",
    "plt.scatter(X_train['F1'], X_train['F2'], c = y_train)\n",
    "plt.xlabel('1st Principal Component')\n",
    "plt.ylabel('2nd Principal Component')\n",
    "plt.title('Scatter Plot before Oversampling with labels indicated by colors i.e., (0) -> Violet and (1) -> Yellow')\n",
    "plt.subplot(1, 2, 2)\n",
    "plt.scatter(X_resampled['F1'], X_resampled['F2'], c = y_resampled)\n",
    "plt.xlabel('1st Principal Component')\n",
    "plt.ylabel('2nd Principal Component')\n",
    "plt.title('Scatter Plot after Oversampling with labels indicated by colors i.e., (0) -> Violet and (1) -> Yellow')\n",
    "plt.show()"
   ]
  },
  {
   "cell_type": "markdown",
   "id": "8c61a991",
   "metadata": {},
   "source": [
    "### Observations:\n",
    "\n",
    "#### We can clearly notice that doing oversampling (whether it is Uniform or Random) would not make any difference to the scatter plot and the pattern is not more prominent. It does not add any new information to the data. It merely repeats it. Hence Oversampling technique is not beneficial."
   ]
  },
  {
   "cell_type": "markdown",
   "id": "83209e3d",
   "metadata": {},
   "source": [
    "Lets look at other Oversampling techniques namely SMOTE and ADASYN"
   ]
  },
  {
   "cell_type": "code",
   "execution_count": 31,
   "id": "38c2c326",
   "metadata": {},
   "outputs": [],
   "source": [
    "from imblearn.over_sampling import SMOTE, ADASYN\n",
    "X_smote, y_smote = SMOTE().fit_resample(X_train, y_train)\n",
    "X_ada, y_ada = ADASYN().fit_resample(X_train, y_train)"
   ]
  },
  {
   "cell_type": "code",
   "execution_count": 32,
   "id": "718b5ba7",
   "metadata": {},
   "outputs": [
    {
     "name": "stdout",
     "output_type": "stream",
     "text": [
      "[(0, 213224), (1, 213224)]\n",
      "[(0, 213224), (1, 213239)]\n"
     ]
    }
   ],
   "source": [
    "#Lets look at the classes after balancing\n",
    "print(sorted(Counter(y_smote).items()))\n",
    "print(sorted(Counter(y_ada).items()))"
   ]
  },
  {
   "cell_type": "markdown",
   "id": "8907e234",
   "metadata": {},
   "source": [
    "Logistic Regression with SMOTE"
   ]
  },
  {
   "cell_type": "code",
   "execution_count": 33,
   "id": "dee61771",
   "metadata": {},
   "outputs": [
    {
     "name": "stdout",
     "output_type": "stream",
     "text": [
      "Fitting 5 folds for each of 17 candidates, totalling 85 fits\n"
     ]
    },
    {
     "data": {
      "text/plain": [
       "GridSearchCV(cv=StratifiedKFold(n_splits=5, random_state=1, shuffle=True),\n",
       "             estimator=LogisticRegression(max_iter=1200), n_jobs=-1,\n",
       "             param_grid={'C': [0.001, 0.003, 0.005, 0.01, 0.03, 0.05, 0.1, 0.3,\n",
       "                               0.5, 1, 2, 3, 3, 4, 5, 10, 20]},\n",
       "             scoring='roc_auc', verbose=1)"
      ]
     },
     "execution_count": 33,
     "metadata": {},
     "output_type": "execute_result"
    }
   ],
   "source": [
    "# Perform hyperparameter tuning with cross validation\n",
    "\n",
    "# Creating the hyperparameter grid\n",
    "c_space = [0.001,0.003,0.005,0.01,0.03,0.05,0.1,0.3,0.5,1,2,3,3,4,5,10,20]\n",
    "params = {'C': c_space}\n",
    "\n",
    "# Instantiating logistic regression classifier\n",
    "logreg = LogisticRegression(max_iter=1200) #maximum iterations 1200 was chosen after trying out various values: 200,500,800,1000,1200\n",
    "\n",
    "# create 5 folds\n",
    "folds = StratifiedKFold(n_splits = 5, shuffle = True, random_state = 1)\n",
    "\n",
    "logreg_cv_smote = GridSearchCV(estimator=logreg, cv=folds, param_grid=params, scoring='roc_auc', n_jobs=-1, verbose=1)\n",
    "\n",
    "#fit the model X_smote, y_smote \n",
    "logreg_cv_smote.fit(X_smote, y_smote)"
   ]
  },
  {
   "cell_type": "code",
   "execution_count": 34,
   "id": "54f25461",
   "metadata": {},
   "outputs": [
    {
     "name": "stdout",
     "output_type": "stream",
     "text": [
      "Best AUC:  0.9921602264219503\n",
      "Best hyperparameters:  {'C': 1}\n"
     ]
    }
   ],
   "source": [
    "# print best hyperparameters\n",
    "print(\"Best AUC: \", logreg_cv_smote.best_score_)\n",
    "print(\"Best hyperparameters: \", logreg_cv_smote.best_params_)"
   ]
  },
  {
   "cell_type": "code",
   "execution_count": 35,
   "id": "9446c1b2",
   "metadata": {},
   "outputs": [
    {
     "name": "stdout",
     "output_type": "stream",
     "text": [
      "[[210019   3205]\n",
      " [ 12567 200657]]\n",
      "AUC:    \t 0.99\n"
     ]
    }
   ],
   "source": [
    "#Evaluate on SMOTE data\n",
    "# predict on SMOTE data\n",
    "y_smote_pred = logreg_cv_smote.predict(X_smote)\n",
    "\n",
    "# create confusion matrix\n",
    "cm = confusion_matrix(y_smote, y_smote_pred)\n",
    "print(cm)\n",
    "\n",
    "# check area under curve\n",
    "y_smote_pred_prob = logreg_cv_smote.predict_proba(X_smote)[:, 1]\n",
    "print(\"AUC:    \\t\", round(roc_auc_score(y_smote, y_smote_pred_prob),2))"
   ]
  },
  {
   "cell_type": "code",
   "execution_count": 36,
   "id": "17dfac40",
   "metadata": {},
   "outputs": [
    {
     "name": "stdout",
     "output_type": "stream",
     "text": [
      "[[70062  1029]\n",
      " [   16    95]]\n",
      "AUC:    \t 0.98\n"
     ]
    }
   ],
   "source": [
    "# predict on test data\n",
    "y_pred = logreg_cv_smote.predict(X_test)\n",
    "\n",
    "# create confusion matrix\n",
    "cm = confusion_matrix(y_test, y_pred)\n",
    "print(cm)\n",
    "\n",
    "# check area under curve\n",
    "y_pred_prob = logreg_cv_smote.predict_proba(X_test)[:, 1]\n",
    "print(\"AUC:    \\t\", round(roc_auc_score(y_test, y_pred_prob),2))"
   ]
  },
  {
   "cell_type": "code",
   "execution_count": 37,
   "id": "f57dea79",
   "metadata": {},
   "outputs": [
    {
     "data": {
      "text/html": [
       "<div>\n",
       "<style scoped>\n",
       "    .dataframe tbody tr th:only-of-type {\n",
       "        vertical-align: middle;\n",
       "    }\n",
       "\n",
       "    .dataframe tbody tr th {\n",
       "        vertical-align: top;\n",
       "    }\n",
       "\n",
       "    .dataframe thead th {\n",
       "        text-align: right;\n",
       "    }\n",
       "</style>\n",
       "<table border=\"1\" class=\"dataframe\">\n",
       "  <thead>\n",
       "    <tr style=\"text-align: right;\">\n",
       "      <th></th>\n",
       "      <th>Model</th>\n",
       "      <th>ROC-AUC Score</th>\n",
       "    </tr>\n",
       "  </thead>\n",
       "  <tbody>\n",
       "    <tr>\n",
       "      <th>0</th>\n",
       "      <td>Logistic Regression on imbalanced data</td>\n",
       "      <td>0.99</td>\n",
       "    </tr>\n",
       "    <tr>\n",
       "      <th>1</th>\n",
       "      <td>Logistic Regression with SMOTE</td>\n",
       "      <td>0.98</td>\n",
       "    </tr>\n",
       "  </tbody>\n",
       "</table>\n",
       "</div>"
      ],
      "text/plain": [
       "                                    Model  ROC-AUC Score\n",
       "0  Logistic Regression on imbalanced data           0.99\n",
       "1          Logistic Regression with SMOTE           0.98"
      ]
     },
     "execution_count": 37,
     "metadata": {},
     "output_type": "execute_result"
    }
   ],
   "source": [
    "#Lets store the above results\n",
    "result = {\"Model\":[\"Logistic Regression with SMOTE\"],\"ROC-AUC Score\":[round(roc_auc_score(y_test, y_pred_prob),2)]}\n",
    "result_df = result_df.append(pd.DataFrame(result), ignore_index=True)\n",
    "result_df"
   ]
  },
  {
   "cell_type": "markdown",
   "id": "0dada598",
   "metadata": {},
   "source": [
    "Logistic Regression with ADASYN"
   ]
  },
  {
   "cell_type": "code",
   "execution_count": 38,
   "id": "781c85ee",
   "metadata": {},
   "outputs": [
    {
     "name": "stdout",
     "output_type": "stream",
     "text": [
      "Fitting 5 folds for each of 17 candidates, totalling 85 fits\n"
     ]
    },
    {
     "data": {
      "text/plain": [
       "GridSearchCV(cv=StratifiedKFold(n_splits=5, random_state=1, shuffle=True),\n",
       "             estimator=LogisticRegression(max_iter=1200), n_jobs=-1,\n",
       "             param_grid={'C': [0.001, 0.003, 0.005, 0.01, 0.03, 0.05, 0.1, 0.3,\n",
       "                               0.5, 1, 2, 3, 3, 4, 5, 10, 20]},\n",
       "             scoring='roc_auc', verbose=1)"
      ]
     },
     "execution_count": 38,
     "metadata": {},
     "output_type": "execute_result"
    }
   ],
   "source": [
    "#perform hyperparameter tuning with cross validation\n",
    "\n",
    "# Creating the hyperparameter grid\n",
    "c_space = [0.001,0.003,0.005,0.01,0.03,0.05,0.1,0.3,0.5,1,2,3,3,4,5,10,20]\n",
    "params = {'C': c_space}\n",
    "\n",
    "# Instantiating logistic regression classifier\n",
    "logreg = LogisticRegression(max_iter=1200) #maximum iterations 1200 was chosen after trying out various values: 200,500,800,1000,1200\n",
    "\n",
    "# create 5 folds\n",
    "folds = StratifiedKFold(n_splits = 5, shuffle = True, random_state = 1)\n",
    "\n",
    "logreg_cv_ada = GridSearchCV(estimator=logreg, cv=folds, param_grid=params, scoring='roc_auc', n_jobs=-1, verbose=1)\n",
    "\n",
    "#fit the model X_smote, y_smote \n",
    "logreg_cv_ada.fit(X_ada, y_ada)"
   ]
  },
  {
   "cell_type": "code",
   "execution_count": 39,
   "id": "982df12a",
   "metadata": {},
   "outputs": [
    {
     "name": "stdout",
     "output_type": "stream",
     "text": [
      "Best AUC:  0.980737659560076\n",
      "Best hyperparameters:  {'C': 4}\n"
     ]
    }
   ],
   "source": [
    "# print best hyperparameters\n",
    "print(\"Best AUC: \", logreg_cv_ada.best_score_)\n",
    "print(\"Best hyperparameters: \", logreg_cv_ada.best_params_)"
   ]
  },
  {
   "cell_type": "code",
   "execution_count": 40,
   "id": "edc6995b",
   "metadata": {},
   "outputs": [
    {
     "name": "stdout",
     "output_type": "stream",
     "text": [
      "[[204251   8973]\n",
      " [ 22673 190566]]\n",
      "AUC:    \t 0.98\n"
     ]
    }
   ],
   "source": [
    "#Evaluate on ADASYN data\n",
    "# predict on ADASYN data\n",
    "y_ada_pred = logreg_cv_ada.predict(X_ada)\n",
    "\n",
    "# create confusion matrix\n",
    "cm = confusion_matrix(y_ada, y_ada_pred)\n",
    "print(cm)\n",
    "\n",
    "# check area under curve\n",
    "y_ada_pred_prob = logreg_cv_ada.predict_proba(X_ada)[:, 1]\n",
    "print(\"AUC:    \\t\", round(roc_auc_score(y_ada, y_ada_pred_prob),2))"
   ]
  },
  {
   "cell_type": "code",
   "execution_count": 41,
   "id": "6cf82010",
   "metadata": {},
   "outputs": [
    {
     "name": "stdout",
     "output_type": "stream",
     "text": [
      "[[68172  2919]\n",
      " [    8   103]]\n",
      "AUC:    \t 0.98\n"
     ]
    }
   ],
   "source": [
    "# predict on test data\n",
    "y_pred = logreg_cv_ada.predict(X_test)\n",
    "\n",
    "# create confusion matrix\n",
    "cm = confusion_matrix(y_test, y_pred)\n",
    "print(cm)\n",
    "\n",
    "# check area under curve\n",
    "y_pred_prob = logreg_cv_ada.predict_proba(X_test)[:, 1]\n",
    "print(\"AUC:    \\t\", round(roc_auc_score(y_test, y_pred_prob),2))"
   ]
  },
  {
   "cell_type": "code",
   "execution_count": 42,
   "id": "a3b0f2ce",
   "metadata": {},
   "outputs": [
    {
     "data": {
      "text/html": [
       "<div>\n",
       "<style scoped>\n",
       "    .dataframe tbody tr th:only-of-type {\n",
       "        vertical-align: middle;\n",
       "    }\n",
       "\n",
       "    .dataframe tbody tr th {\n",
       "        vertical-align: top;\n",
       "    }\n",
       "\n",
       "    .dataframe thead th {\n",
       "        text-align: right;\n",
       "    }\n",
       "</style>\n",
       "<table border=\"1\" class=\"dataframe\">\n",
       "  <thead>\n",
       "    <tr style=\"text-align: right;\">\n",
       "      <th></th>\n",
       "      <th>Model</th>\n",
       "      <th>ROC-AUC Score</th>\n",
       "    </tr>\n",
       "  </thead>\n",
       "  <tbody>\n",
       "    <tr>\n",
       "      <th>0</th>\n",
       "      <td>Logistic Regression on imbalanced data</td>\n",
       "      <td>0.99</td>\n",
       "    </tr>\n",
       "    <tr>\n",
       "      <th>1</th>\n",
       "      <td>Logistic Regression with SMOTE</td>\n",
       "      <td>0.98</td>\n",
       "    </tr>\n",
       "    <tr>\n",
       "      <th>2</th>\n",
       "      <td>Logistic Regression with ADASYN</td>\n",
       "      <td>0.98</td>\n",
       "    </tr>\n",
       "  </tbody>\n",
       "</table>\n",
       "</div>"
      ],
      "text/plain": [
       "                                    Model  ROC-AUC Score\n",
       "0  Logistic Regression on imbalanced data           0.99\n",
       "1          Logistic Regression with SMOTE           0.98\n",
       "2         Logistic Regression with ADASYN           0.98"
      ]
     },
     "execution_count": 42,
     "metadata": {},
     "output_type": "execute_result"
    }
   ],
   "source": [
    "#Lets store the above results\n",
    "result = {\"Model\":[\"Logistic Regression with ADASYN\"],\"ROC-AUC Score\":[round(roc_auc_score(y_test, y_pred_prob),2)]}\n",
    "result_df = result_df.append(pd.DataFrame(result), ignore_index=True)\n",
    "result_df"
   ]
  },
  {
   "cell_type": "markdown",
   "id": "4a282e21",
   "metadata": {},
   "source": [
    "## **Conclusion:**\n",
    "\n",
    "1. The results are consolidated as above. The 3 models namely, Logistic Regression on imbalanced data, Logistic Regression with SMOTE, and Logistic Regression with ADASYN were tested. Logistic Regression on imbalanced data gave the best results with ROC-AUC Score 0.99 on the test data.\n",
    "\n",
    "2. Two Oversampling techniques namely, SMOTE and ADASYN were used to balance the dataset.\n",
    "\n",
    "3. Logistic Regression model was run for both cases - SMOTE and ADASYN, with ROC-AUC Score of 0.98 on the test data. The score even though reduced a bit, it did not come down drastically. We can make a claim that balancing the dataset helps build better classifiers in this Credit Card Fraud Detection as a Classification Problem.\n",
    "\n",
    "6. Printing the results of hyperparameters below for both Imbalanced and Balanced datasets.\n",
    "  - Imbalanced data:\n",
    "\n",
    "    1. Logistic Regression on imbalanced data:\n",
    "\n",
    "        Best AUC:  0.980789326503649\n",
    "        \n",
    "        Best hyperparameters:  {'C': 0.001}\n",
    "\n",
    "    2. Logistic Regression with SMOTE:\n",
    "\n",
    "        Best AUC:  0.9921602264219503\n",
    "        \n",
    "        Best hyperparameters:  {'C': 1}\n",
    "\n",
    "    3. Logistic Regression with ADASYN:\n",
    "\n",
    "        Best AUC:  0.980737659560076\n",
    "\n",
    "        Best hyperparameters:  {'C': 4}"
   ]
  }
 ],
 "metadata": {
  "kernelspec": {
   "display_name": "Python 3 (ipykernel)",
   "language": "python",
   "name": "python3"
  },
  "language_info": {
   "codemirror_mode": {
    "name": "ipython",
    "version": 3
   },
   "file_extension": ".py",
   "mimetype": "text/x-python",
   "name": "python",
   "nbconvert_exporter": "python",
   "pygments_lexer": "ipython3",
   "version": "3.7.13"
  }
 },
 "nbformat": 4,
 "nbformat_minor": 5
}
